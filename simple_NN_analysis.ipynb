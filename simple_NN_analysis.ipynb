{
 "cells": [
  {
   "cell_type": "code",
   "execution_count": 1,
   "metadata": {},
   "outputs": [],
   "source": [
    "import numpy as np\n",
    "import pandas as pd\n",
    "import matplotlib.pyplot as plt"
   ]
  },
  {
   "cell_type": "code",
   "execution_count": 2,
   "metadata": {},
   "outputs": [],
   "source": [
    "import torch\n",
    "import torch.nn as nn"
   ]
  },
  {
   "cell_type": "code",
   "execution_count": 3,
   "metadata": {},
   "outputs": [],
   "source": [
    "class SimpleNN(nn.Module):\n",
    "\n",
    "    def __init__(self):\n",
    "        super(SimpleNN, self).__init__()\n",
    "\n",
    "        self.l1 = nn.Linear(100, 200)\n",
    "        self.relu1 = nn.ReLU()\n",
    "        self.l2 = nn.Linear(200, 10)\n",
    "        self.softmax = nn.Softmax()\n",
    "\n",
    "    def forward(self, x):\n",
    "        out = self.l1(x)\n",
    "        out = self.relu1(out)\n",
    "        out = self.l2(out)\n",
    "        logit = self.softmax(out)\n",
    "        return logit    \n"
   ]
  },
  {
   "cell_type": "code",
   "execution_count": 4,
   "metadata": {},
   "outputs": [
    {
     "name": "stdout",
     "output_type": "stream",
     "text": [
      "SImple Model:\n",
      "SimpleNN(\n",
      "  (l1): Linear(in_features=100, out_features=200, bias=True)\n",
      "  (relu1): ReLU()\n",
      "  (l2): Linear(in_features=200, out_features=10, bias=True)\n",
      "  (softmax): Softmax(dim=None)\n",
      ")\n"
     ]
    }
   ],
   "source": [
    "\n",
    "model = SimpleNN()\n",
    "\n",
    "print(\"SImple Model:\")\n",
    "print(model)"
   ]
  },
  {
   "cell_type": "code",
   "execution_count": 5,
   "metadata": {},
   "outputs": [
    {
     "name": "stdout",
     "output_type": "stream",
     "text": [
      "\n",
      "\n",
      "One layer:\n",
      "Linear(in_features=200, out_features=10, bias=True)\n"
     ]
    }
   ],
   "source": [
    "print(\"\\n\\nOne layer:\")\n",
    "print(model.l2)"
   ]
  },
  {
   "cell_type": "code",
   "execution_count": 6,
   "metadata": {},
   "outputs": [
    {
     "name": "stdout",
     "output_type": "stream",
     "text": [
      "\n",
      "\n",
      "Model Parameters:\n",
      "Parameter containing:\n",
      "tensor([[ 0.0927, -0.0118,  0.0569,  ...,  0.0489,  0.0685,  0.0830],\n",
      "        [ 0.0336, -0.0328,  0.0860,  ...,  0.0539, -0.0408, -0.0146],\n",
      "        [ 0.0792,  0.0938, -0.0004,  ..., -0.0920,  0.0851,  0.0132],\n",
      "        ...,\n",
      "        [-0.0632, -0.0337,  0.0988,  ..., -0.0249,  0.0073,  0.0930],\n",
      "        [-0.0403, -0.0017, -0.0854,  ..., -0.0592, -0.0729, -0.0615],\n",
      "        [-0.0949,  0.0770, -0.0501,  ...,  0.0973,  0.0944, -0.0858]],\n",
      "       requires_grad=True)\n",
      "Parameter containing:\n",
      "tensor([ 0.0901, -0.0517,  0.0531, -0.0659,  0.0273, -0.0804, -0.0410,  0.0189,\n",
      "        -0.0791,  0.0415,  0.0598,  0.0074, -0.0013, -0.0679, -0.0065, -0.0146,\n",
      "        -0.0159,  0.0878,  0.0668, -0.0531, -0.0127, -0.0814, -0.0820,  0.0405,\n",
      "         0.0444, -0.0744,  0.0200, -0.0512, -0.0912,  0.0095, -0.0600, -0.0910,\n",
      "        -0.0259,  0.0402, -0.0310,  0.0716,  0.0730,  0.0753, -0.0238,  0.0434,\n",
      "         0.0039,  0.0834,  0.0745, -0.0808,  0.0372,  0.0826,  0.0089,  0.0696,\n",
      "        -0.0759, -0.0460, -0.0515, -0.0601, -0.0916, -0.0199, -0.0030,  0.0096,\n",
      "        -0.0695, -0.0287,  0.0661, -0.0493, -0.0571, -0.0426, -0.0363,  0.0639,\n",
      "        -0.0555,  0.0979, -0.0037,  0.0743, -0.0940,  0.0161,  0.0363,  0.0553,\n",
      "        -0.0594,  0.0115,  0.0750, -0.0833, -0.0744, -0.0762, -0.0406, -0.0413,\n",
      "        -0.0605, -0.0150, -0.0219, -0.0776, -0.0185,  0.0562, -0.0759,  0.0379,\n",
      "        -0.0608,  0.0201, -0.0356,  0.0945,  0.0293, -0.0983,  0.0806,  0.0294,\n",
      "         0.0816,  0.0053,  0.0989,  0.0635, -0.0726,  0.0033, -0.0838,  0.0666,\n",
      "        -0.0780, -0.0448, -0.0669,  0.0902,  0.0726, -0.0140,  0.0694,  0.0144,\n",
      "        -0.0234, -0.0092, -0.0753, -0.0908, -0.0480, -0.0567,  0.0265,  0.0105,\n",
      "        -0.0101,  0.0861,  0.0814,  0.0426, -0.0653,  0.0654,  0.0316, -0.0198,\n",
      "         0.0426, -0.0366,  0.0464,  0.0475,  0.0755, -0.0927,  0.0345, -0.0685,\n",
      "         0.0255, -0.0093, -0.0290,  0.0697, -0.0614, -0.0773, -0.0142, -0.0776,\n",
      "        -0.0660,  0.0882,  0.0070,  0.0354, -0.0452,  0.0568, -0.0500,  0.0608,\n",
      "         0.0531, -0.0090, -0.0276, -0.0225, -0.0530, -0.0767,  0.0512, -0.0903,\n",
      "        -0.0619, -0.0276, -0.0949,  0.0770, -0.0630, -0.0795, -0.0482, -0.0657,\n",
      "        -0.0786,  0.0578, -0.0509, -0.0845,  0.0599,  0.0675,  0.0700, -0.0774,\n",
      "         0.0763, -0.0639,  0.0402, -0.0712,  0.0017, -0.0934, -0.0718, -0.0027,\n",
      "         0.0664,  0.0448, -0.0358, -0.0650, -0.0867, -0.0026, -0.0475,  0.0600,\n",
      "         0.0275, -0.0067, -0.0858,  0.0266, -0.0909, -0.0113,  0.0766, -0.0426],\n",
      "       requires_grad=True)\n",
      "Parameter containing:\n",
      "tensor([[-6.6060e-03, -6.8508e-02, -3.2391e-02,  ...,  3.6988e-02,\n",
      "         -2.8810e-02, -2.3560e-02],\n",
      "        [-6.2117e-02,  3.1846e-02,  2.2373e-02,  ...,  3.3649e-02,\n",
      "         -6.8640e-02, -2.2484e-02],\n",
      "        [ 5.9123e-02, -3.6528e-02, -6.5661e-02,  ..., -1.3733e-02,\n",
      "          2.4830e-02, -5.4032e-02],\n",
      "        ...,\n",
      "        [ 6.4745e-02,  1.2834e-02, -8.4134e-05,  ..., -4.9906e-03,\n",
      "         -2.6193e-02, -2.6837e-02],\n",
      "        [ 1.9265e-03,  1.7134e-02,  6.7478e-03,  ...,  6.3292e-02,\n",
      "         -1.2229e-02,  6.1269e-02],\n",
      "        [-1.0429e-02,  2.3475e-02,  2.8634e-02,  ..., -1.4289e-02,\n",
      "         -3.1425e-02, -5.5643e-02]], requires_grad=True)\n",
      "Parameter containing:\n",
      "tensor([-0.0654,  0.0315,  0.0016,  0.0379, -0.0038, -0.0554,  0.0262, -0.0429,\n",
      "         0.0504, -0.0233], requires_grad=True)\n"
     ]
    }
   ],
   "source": [
    "print(\"\\n\\nModel Parameters:\")\n",
    "for param in model.parameters():\n",
    "    print(param)\n"
   ]
  },
  {
   "cell_type": "code",
   "execution_count": 10,
   "metadata": {},
   "outputs": [
    {
     "name": "stdout",
     "output_type": "stream",
     "text": [
      "Parameter containing:\n",
      "tensor([[-6.6060e-03, -6.8508e-02, -3.2391e-02,  ...,  3.6988e-02,\n",
      "         -2.8810e-02, -2.3560e-02],\n",
      "        [-6.2117e-02,  3.1846e-02,  2.2373e-02,  ...,  3.3649e-02,\n",
      "         -6.8640e-02, -2.2484e-02],\n",
      "        [ 5.9123e-02, -3.6528e-02, -6.5661e-02,  ..., -1.3733e-02,\n",
      "          2.4830e-02, -5.4032e-02],\n",
      "        ...,\n",
      "        [ 6.4745e-02,  1.2834e-02, -8.4134e-05,  ..., -4.9906e-03,\n",
      "         -2.6193e-02, -2.6837e-02],\n",
      "        [ 1.9265e-03,  1.7134e-02,  6.7478e-03,  ...,  6.3292e-02,\n",
      "         -1.2229e-02,  6.1269e-02],\n",
      "        [-1.0429e-02,  2.3475e-02,  2.8634e-02,  ..., -1.4289e-02,\n",
      "         -3.1425e-02, -5.5643e-02]], requires_grad=True)\n",
      "Parameter containing:\n",
      "tensor([-0.0654,  0.0315,  0.0016,  0.0379, -0.0038, -0.0554,  0.0262, -0.0429,\n",
      "         0.0504, -0.0233], requires_grad=True)\n"
     ]
    }
   ],
   "source": [
    "for param in model.l2.parameters():\n",
    "    print(param)"
   ]
  },
  {
   "cell_type": "code",
   "execution_count": 11,
   "metadata": {},
   "outputs": [
    {
     "name": "stdout",
     "output_type": "stream",
     "text": [
      "Input:\n",
      "tensor([[0.6995, 0.4650, 0.7213]])\n",
      "\n",
      "\n",
      "Weight and Bias parameters:\n",
      "Parameter containing:\n",
      "tensor([[0.0210, 0.5462, 0.4205],\n",
      "        [0.5173, 0.1578, 0.3339]], requires_grad=True)\n",
      "Parameter containing:\n",
      "tensor([-0.4607, -0.2833], requires_grad=True)\n",
      "\n",
      "\n",
      "Output:\n",
      "tensor([[0.1112, 0.3928]], grad_fn=<AddmmBackward0>)\n"
     ]
    }
   ],
   "source": [
    "lin = torch.nn.Linear(3, 2)\n",
    "x = torch.rand(1, 3)\n",
    "print('Input:')\n",
    "print(x)\n",
    "\n",
    "print('\\n\\nWeight and Bias parameters:')\n",
    "for param in lin.parameters():\n",
    "    print(param)\n",
    "\n",
    "y = lin(x)\n",
    "print('\\n\\nOutput:')\n",
    "print(y)"
   ]
  }
 ],
 "metadata": {
  "kernelspec": {
   "display_name": "Python 3.8.12 ('pytorch')",
   "language": "python",
   "name": "python3"
  },
  "language_info": {
   "codemirror_mode": {
    "name": "ipython",
    "version": 3
   },
   "file_extension": ".py",
   "mimetype": "text/x-python",
   "name": "python",
   "nbconvert_exporter": "python",
   "pygments_lexer": "ipython3",
   "version": "3.8.12"
  },
  "orig_nbformat": 4,
  "vscode": {
   "interpreter": {
    "hash": "2e753d71ef7304ddfd93a48aa366aa4050d26dee3a9358c3d90e9e84935e3962"
   }
  }
 },
 "nbformat": 4,
 "nbformat_minor": 2
}
